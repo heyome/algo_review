{
 "cells": [
  {
   "cell_type": "markdown",
   "metadata": {},
   "source": [
    "# 算法整理"
   ]
  },
  {
   "cell_type": "markdown",
   "metadata": {},
   "source": [
    "## 排序和查找算法"
   ]
  },
  {
   "cell_type": "markdown",
   "metadata": {},
   "source": [
    "### 冒泡排序"
   ]
  },
  {
   "cell_type": "code",
   "execution_count": 6,
   "metadata": {},
   "outputs": [
    {
     "data": {
      "text/plain": [
       "[1, 2, 3, 4, 5, 6, 7, 8, 9, 10]"
      ]
     },
     "execution_count": 6,
     "metadata": {},
     "output_type": "execute_result"
    }
   ],
   "source": [
    "l1 = [3, 1, 5, 7, 2, 4, 9, 6, 10, 8]\n",
    "def bubbleSort(l):\n",
    "    for i in range(len(l)-1):\n",
    "        for j in range(len(l)-i-1):\n",
    "            a = l[j]\n",
    "            b = l[j+1]\n",
    "            if a > b:\n",
    "                l[j] = b\n",
    "                l[j+1] = a\n",
    "    return l\n",
    "\n",
    "bubbleSort(l1)"
   ]
  },
  {
   "cell_type": "markdown",
   "metadata": {},
   "source": [
    "### 快速排序"
   ]
  },
  {
   "cell_type": "code",
   "execution_count": 20,
   "metadata": {},
   "outputs": [
    {
     "data": {
      "text/plain": [
       "[1, 2, 3, 4, 5, 6, 7, 8, 9, 10]"
      ]
     },
     "execution_count": 20,
     "metadata": {},
     "output_type": "execute_result"
    }
   ],
   "source": [
    "import math\n",
    "l2 = [3, 1, 5, 7, 2, 4, 9, 6, 10, 8]\n",
    "\n",
    "def quicksort(l):\n",
    "    \n",
    "    if len(l) <= 1:\n",
    "        return l\n",
    "    \n",
    "    left = []\n",
    "    p = []\n",
    "    right = []\n",
    "    length = len(l)\n",
    "    \n",
    "    pivot_n = math.floor(length/2)\n",
    "    pivot = l[pivot_n]\n",
    "    for i in range(len(l)):\n",
    "        num = l[i]\n",
    "        if num < pivot:\n",
    "            left.append(num)\n",
    "        elif num == pivot:\n",
    "            p.append(num)\n",
    "        else:\n",
    "            right.append(num)\n",
    "    \n",
    "    result = quicksort(left) + p + quicksort(right)\n",
    "    return result\n",
    "\n",
    "quicksort(l2)      "
   ]
  },
  {
   "cell_type": "markdown",
   "metadata": {},
   "source": [
    "### 插入排序"
   ]
  },
  {
   "cell_type": "code",
   "execution_count": 48,
   "metadata": {},
   "outputs": [
    {
     "data": {
      "text/plain": [
       "[1, 2, 3, 4, 5, 6, 7, 8, 9, 10]"
      ]
     },
     "execution_count": 48,
     "metadata": {},
     "output_type": "execute_result"
    }
   ],
   "source": [
    "l3 = [3, 1, 5, 7, 2, 4, 9, 6, 10, 8]\n",
    "\n",
    "def insertionSort(l):\n",
    "    result = [];\n",
    "    for i in range(len(l)):\n",
    "        result = insert(result, l[i])\n",
    "    return result \n",
    "\n",
    "def insert(l,n):\n",
    "    if not l:\n",
    "        return [n]\n",
    "    else:\n",
    "        for i in range(len(l)):\n",
    "            length = len(l) - 1\n",
    "            if l[length - i] <= n:\n",
    "                return l[0:length - i + 1] + [n] + l[length - i + 1:length+1]\n",
    "            elif i == length:\n",
    "                return [n] + l\n",
    "insertionSort(l3)"
   ]
  },
  {
   "cell_type": "markdown",
   "metadata": {},
   "source": [
    "### 二分查找"
   ]
  },
  {
   "cell_type": "code",
   "execution_count": 67,
   "metadata": {},
   "outputs": [
    {
     "name": "stdout",
     "output_type": "stream",
     "text": [
      "False\n",
      "True\n"
     ]
    }
   ],
   "source": [
    "l4 = [1, 2, 3, 4, 5, 6, 7, 8, 9, 10]\n",
    "def binarySearch(l,n):\n",
    "    length = len(l)\n",
    "    mid = math.floor(length/2)\n",
    "    if length == 1 and l[0] != n: return False\n",
    "    elif n == l[mid]:\n",
    "        return True\n",
    "    elif n > l[mid]:\n",
    "        return binarySearch(l[mid+1:length],n)\n",
    "    else:\n",
    "        return binarySearch(l[0:mid],n)\n",
    "\n",
    "print(binarySearch(l4,11))\n",
    "print(binarySearch(l4,5))"
   ]
  },
  {
   "cell_type": "markdown",
   "metadata": {},
   "source": [
    "### Merge Sort"
   ]
  },
  {
   "cell_type": "code",
   "execution_count": 69,
   "metadata": {},
   "outputs": [
    {
     "data": {
      "text/plain": [
       "[1, 2, 3, 4, 5, 6, 7, 8, 9, 10]"
      ]
     },
     "execution_count": 69,
     "metadata": {},
     "output_type": "execute_result"
    }
   ],
   "source": [
    "l5 = [3, 1, 5, 7, 2, 4, 9, 6, 10, 8]\n",
    "\n",
    "def mSort(l):\n",
    "    length = len(l)\n",
    "    if length <= 1:\n",
    "        return l\n",
    "    mid = math.floor(length/2)\n",
    "    left = l[0:mid]\n",
    "    right = l[mid:length]\n",
    "    return merge(mSort(left),mSort(right))\n",
    "\n",
    "def merge(left,right):\n",
    "    result = []\n",
    "    length = len(left) + len(right)\n",
    "    while length != 0:\n",
    "        if len(left) == 0:\n",
    "            result += right\n",
    "            break\n",
    "        elif len(right) == 0:\n",
    "            result += left\n",
    "            break\n",
    "        else: \n",
    "            if left[0] >= right[0]:\n",
    "                result.append(right[0])\n",
    "                del right[0]\n",
    "            else:\n",
    "                result.append(left[0])\n",
    "                del left[0]\n",
    "            length -= 1\n",
    "        \n",
    "insertionSort(l5)"
   ]
  },
  {
   "cell_type": "code",
   "execution_count": null,
   "metadata": {},
   "outputs": [],
   "source": []
  },
  {
   "cell_type": "code",
   "execution_count": null,
   "metadata": {},
   "outputs": [],
   "source": []
  }
 ],
 "metadata": {
  "kernelspec": {
   "display_name": "Python 3",
   "language": "python",
   "name": "python3"
  },
  "language_info": {
   "codemirror_mode": {
    "name": "ipython",
    "version": 3
   },
   "file_extension": ".py",
   "mimetype": "text/x-python",
   "name": "python",
   "nbconvert_exporter": "python",
   "pygments_lexer": "ipython3",
   "version": "3.7.4"
  }
 },
 "nbformat": 4,
 "nbformat_minor": 2
}
